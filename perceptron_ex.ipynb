{
 "cells": [
  {
   "cell_type": "code",
   "execution_count": 1,
   "metadata": {
    "collapsed": true
   },
   "outputs": [],
   "source": [
    "import numpy as np\n",
    "import pandas as pd\n",
    "import matplotlib.pyplot as plt\n",
    "from mlxtend.plotting import plot_decision_regions"
   ]
  },
  {
   "cell_type": "code",
   "execution_count": 42,
   "metadata": {
    "collapsed": false,
    "pycharm": {
     "name": "#%%\n"
    }
   },
   "outputs": [],
   "source": [
    "class Perceptron(object):\n",
    "\n",
    "    def __init__(self, eta=0.01, epochs=50):\n",
    "        self.eta = eta\n",
    "        self.epochs = epochs\n",
    "        self.weigths = None\n",
    "        self.predictions = []\n",
    "\n",
    "    def train(self, x, y):\n",
    "        # Add a 1 to each sample for the \"Bias\"\n",
    "        x['0'] = 1\n",
    "        print(x)\n",
    "        num_of_features = len(x.iloc[0])\n",
    "        # Initialize weigths\n",
    "        self.weigths = np.random.rand(num_of_features)\n",
    "        print(self.weigths)\n",
    "        for i in range(0, 75):\n",
    "            pred = self.predict(x.iloc[i])\n",
    "            if pred != y[i]:\n",
    "                print(\"The prediction was: \" + str(pred) + \" and the actual label was: \" + str(y[i]))\n",
    "\n",
    "\n",
    "        \n",
    "\n",
    "    def predict(self, x):\n",
    "        pred = np.sign(np.dot(x, self.weigths))\n",
    "        return pred"
   ]
  },
  {
   "cell_type": "code",
   "execution_count": 43,
   "metadata": {
    "collapsed": false,
    "pycharm": {
     "name": "#%%\n"
    }
   },
   "outputs": [
    {
     "name": "stdout",
     "output_type": "stream",
     "text": [
      "test-1.0\n",
      "      1    2  0\n",
      "0   3.5  1.4  1\n",
      "1   3.0  1.4  1\n",
      "2   3.2  1.3  1\n",
      "3   3.1  1.5  1\n",
      "4   3.6  1.4  1\n",
      "..  ...  ... ..\n",
      "95  3.0  4.2  1\n",
      "96  2.9  4.2  1\n",
      "97  2.9  4.3  1\n",
      "98  2.5  3.0  1\n",
      "99  2.8  4.1  1\n",
      "\n",
      "[100 rows x 3 columns]\n",
      "[0.93143444 0.88353731 0.48578715]\n",
      "The prediction was: 1.0 and the actual label was: -1.0\n",
      "The prediction was: 1.0 and the actual label was: -1.0\n",
      "The prediction was: 1.0 and the actual label was: -1.0\n",
      "The prediction was: 1.0 and the actual label was: -1.0\n",
      "The prediction was: 1.0 and the actual label was: -1.0\n",
      "The prediction was: 1.0 and the actual label was: -1.0\n",
      "The prediction was: 1.0 and the actual label was: -1.0\n",
      "The prediction was: 1.0 and the actual label was: -1.0\n",
      "The prediction was: 1.0 and the actual label was: -1.0\n",
      "The prediction was: 1.0 and the actual label was: -1.0\n",
      "The prediction was: 1.0 and the actual label was: -1.0\n",
      "The prediction was: 1.0 and the actual label was: -1.0\n",
      "The prediction was: 1.0 and the actual label was: -1.0\n",
      "The prediction was: 1.0 and the actual label was: -1.0\n",
      "The prediction was: 1.0 and the actual label was: -1.0\n",
      "The prediction was: 1.0 and the actual label was: -1.0\n",
      "The prediction was: 1.0 and the actual label was: -1.0\n",
      "The prediction was: 1.0 and the actual label was: -1.0\n",
      "The prediction was: 1.0 and the actual label was: -1.0\n",
      "The prediction was: 1.0 and the actual label was: -1.0\n",
      "The prediction was: 1.0 and the actual label was: -1.0\n",
      "The prediction was: 1.0 and the actual label was: -1.0\n",
      "The prediction was: 1.0 and the actual label was: -1.0\n",
      "The prediction was: 1.0 and the actual label was: -1.0\n",
      "The prediction was: 1.0 and the actual label was: -1.0\n"
     ]
    },
    {
     "name": "stderr",
     "output_type": "stream",
     "text": [
      "C:\\Users\\fredd\\AppData\\Local\\Temp\\ipykernel_6204\\1249215167.py:11: SettingWithCopyWarning: \n",
      "A value is trying to be set on a copy of a slice from a DataFrame.\n",
      "Try using .loc[row_indexer,col_indexer] = value instead\n",
      "\n",
      "See the caveats in the documentation: https://pandas.pydata.org/pandas-docs/stable/user_guide/indexing.html#returning-a-view-versus-a-copy\n",
      "  x['0'] = 1\n"
     ]
    }
   ],
   "source": [
    "#Load the Iris dataset into a dataframe\n",
    "df = pd.read_csv('https://archive.ics.uci.edu/ml/machine-learning-databases/iris/iris.data', header=None)\n",
    "# Get the first hundred rows (Cut out the theird lable)\n",
    "df = df.head(100)\n",
    "# Get the labels and load them in 'y'\n",
    "y = np.ones(50)\n",
    "y = np.append(y, np.negative(np.ones(50)))\n",
    "# Get the features to each label\n",
    "x = df[[1,2]]\n",
    "print(\"test\" + str(y[75]))\n",
    "perceptron = Perceptron()\n",
    "perceptron.train(x, y)"
   ]
  },
  {
   "cell_type": "code",
   "execution_count": 4,
   "metadata": {
    "collapsed": false,
    "pycharm": {
     "name": "#%%\n"
    }
   },
   "outputs": [],
   "source": [
    "# Choose experimental data from the dataset\n",
    "#YOUR CODE GOES HERE"
   ]
  },
  {
   "cell_type": "code",
   "execution_count": null,
   "metadata": {
    "collapsed": false,
    "pycharm": {
     "name": "#%%\n"
    }
   },
   "outputs": [],
   "source": [
    "#Visualize results\n",
    "#YOUR CODE GOES HERE"
   ]
  },
  {
   "cell_type": "code",
   "execution_count": null,
   "metadata": {
    "collapsed": false,
    "pycharm": {
     "name": "#%%\n"
    }
   },
   "outputs": [],
   "source": []
  }
 ],
 "metadata": {
  "kernelspec": {
   "display_name": "Python 3",
   "language": "python",
   "name": "python3"
  },
  "language_info": {
   "codemirror_mode": {
    "name": "ipython",
    "version": 3
   },
   "file_extension": ".py",
   "mimetype": "text/x-python",
   "name": "python",
   "nbconvert_exporter": "python",
   "pygments_lexer": "ipython3",
   "version": "3.11.0"
  }
 },
 "nbformat": 4,
 "nbformat_minor": 0
}
