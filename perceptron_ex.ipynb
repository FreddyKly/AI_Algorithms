{
 "cells": [
  {
   "cell_type": "code",
   "execution_count": 119,
   "metadata": {
    "collapsed": true
   },
   "outputs": [],
   "source": [
    "import numpy as np\n",
    "import pandas as pd\n",
    "import matplotlib.pyplot as plt\n",
    "from mlxtend.plotting import plot_decision_regions"
   ]
  },
  {
   "cell_type": "code",
   "execution_count": 125,
   "metadata": {
    "collapsed": false,
    "pycharm": {
     "name": "#%%\n"
    }
   },
   "outputs": [],
   "source": [
    "class Perceptron(object):\n",
    "\n",
    "    def __init__(self, eta=0.01, epochs=50):\n",
    "        self.eta = eta\n",
    "        self.epochs = epochs\n",
    "        self.weigths = None\n",
    "        self.predictions = []\n",
    "\n",
    "    def train(self, x, y):\n",
    "        num_samples = len(y)\n",
    "        self.predictions = np.ones(num_samples)\n",
    "        # Add a 1 to each sample for the \"Bias\" and turn into a numpy array\n",
    "        x['0'] = 1\n",
    "        x = x.to_numpy()\n",
    "        y = y.to_numpy()\n",
    "        # # print(x)\n",
    "        num_of_features = len(x[0])\n",
    "        # Initialize weigths\n",
    "        self.weigths = np.random.rand(num_of_features)\n",
    "        # print(\"Initial weights: [\" + str(self.weigths) + \"]\")\n",
    "        # print(\"Labels: \" + str(y))\n",
    "        num_correct_pred = 0\n",
    "        while num_correct_pred < num_samples:\n",
    "            # print(\"\\n### Iteration step \" + j + \" ###\")\n",
    "            # Iterate over all samples\n",
    "            for i in range(0, num_samples):\n",
    "                pred = self.predict(x[i])\n",
    "                # If the prediction is incorrect\n",
    "                if pred != y[i]:\n",
    "                    if y[i] == 1:\n",
    "                        self.weigths = np.add(self.weigths, x[i])\n",
    "                    else:\n",
    "                        self.weigths = np.subtract(self.weigths, x[i])\n",
    "                    print(\"The prediction was: \" + str(pred) + \" but the actual label was: \" + str(y[i]) + \". The new weigths are: \" + str(self.weigths))\n",
    "                self.predictions[i] = pred\n",
    "            # print(\"Predicitons: \" + str(self.predictions))\n",
    "            # print(\"Weights: [\" + str(self.weigths) + \"]\")\n",
    "            num_correct_pred = np.sum(np.array(self.predictions) == y)\n",
    "            print(\"How many elements are equal: \" + str(num_correct_pred) + \"\\n\")\n",
    "            # print(np.sum(self.predictions== y))\n",
    "        \n",
    "\n",
    "    def predict(self, x):\n",
    "        pred = np.sign(np.dot(x, self.weigths))\n",
    "        # print(\"Dotproduct of \" + str(x) + \" and \" + str(self.weigths) + \" equals: \" + str(pred))\n",
    "        return pred\n",
    "    \n",
    "    def test(self, x, y):\n",
    "        x['0'] = 1\n",
    "        x = x.to_numpy()\n",
    "        y = y.to_numpy()\n",
    "        num_samples = len(y)\n",
    "        predictions = np.ones(num_samples)\n",
    "        for i in range(0, num_samples):\n",
    "            pred = np.sign(np.dot(x[i], self.weigths))\n",
    "            predictions[i] = pred\n",
    "        num_correct_pred = np.sum(np.array(predictions) == y)\n",
    "        print(\"How many elements are equal: \" + str(num_correct_pred) + \"\\n\")\n"
   ]
  },
  {
   "cell_type": "code",
   "execution_count": 126,
   "metadata": {
    "collapsed": false,
    "pycharm": {
     "name": "#%%\n"
    }
   },
   "outputs": [
    {
     "name": "stdout",
     "output_type": "stream",
     "text": [
      "The prediction was: 1.0 but the actual label was: -1. The new weigths are: [-1.61848225 -2.85164658 -0.77979488]\n",
      "The prediction was: -1.0 but the actual label was: 1. The new weigths are: [ 1.88151775 -1.25164658  0.22020512]\n",
      "The prediction was: 1.0 but the actual label was: -1. The new weigths are: [-1.11848225 -5.45164658 -0.77979488]\n",
      "The prediction was: -1.0 but the actual label was: 1. The new weigths are: [ 1.88151775 -4.35164658  0.22020512]\n",
      "The prediction was: -1.0 but the actual label was: 1. The new weigths are: [ 4.18151775 -3.05164658  1.22020512]\n",
      "The prediction was: 1.0 but the actual label was: -1. The new weigths are: [ 0.98151775 -7.55164658  0.22020512]\n",
      "The prediction was: -1.0 but the actual label was: 1. The new weigths are: [ 4.38151775 -6.05164658  1.22020512]\n",
      "How many elements are equal: 73\n",
      "\n",
      "How many elements are equal: 80\n",
      "\n"
     ]
    },
    {
     "name": "stderr",
     "output_type": "stream",
     "text": [
      "/tmp/ipykernel_6279/4259251286.py:13: SettingWithCopyWarning: \n",
      "A value is trying to be set on a copy of a slice from a DataFrame.\n",
      "Try using .loc[row_indexer,col_indexer] = value instead\n",
      "\n",
      "See the caveats in the documentation: https://pandas.pydata.org/pandas-docs/stable/user_guide/indexing.html#returning-a-view-versus-a-copy\n",
      "  x['0'] = 1\n"
     ]
    }
   ],
   "source": [
    "#Load the Iris dataset into a dataframe\n",
    "df = pd.read_csv('https://archive.ics.uci.edu/ml/machine-learning-databases/iris/iris.data', header=None)\n",
    "# Get the first hundred rows (Cut out the theird lable)\n",
    "num_samples = 100\n",
    "df = df.head(num_samples)\n",
    "df = df.sample(frac = 1)\n",
    "df.loc[df[4] == 'Iris-setosa', 4] = 1\n",
    "df.loc[df[4] == 'Iris-versicolor', 4] = -1\n",
    "# Get the labels and load them in 'y'\n",
    "y = df[4]\n",
    "# Get the features to each label\n",
    "x = df[[1,2]]\n",
    "# print(x[80:])\n",
    "num_train = 80\n",
    "num_test = num_samples - num_train\n",
    "perceptron = Perceptron()\n",
    "perceptron.train(x[:num_train], y[:num_train])"
   ]
  },
  {
   "cell_type": "code",
   "execution_count": 128,
   "metadata": {
    "collapsed": false,
    "pycharm": {
     "name": "#%%\n"
    }
   },
   "outputs": [
    {
     "name": "stdout",
     "output_type": "stream",
     "text": [
      "How many elements are equal: 20\n",
      "\n"
     ]
    },
    {
     "name": "stderr",
     "output_type": "stream",
     "text": [
      "/tmp/ipykernel_6279/4259251286.py:49: SettingWithCopyWarning: \n",
      "A value is trying to be set on a copy of a slice from a DataFrame.\n",
      "Try using .loc[row_indexer,col_indexer] = value instead\n",
      "\n",
      "See the caveats in the documentation: https://pandas.pydata.org/pandas-docs/stable/user_guide/indexing.html#returning-a-view-versus-a-copy\n",
      "  x['0'] = 1\n"
     ]
    }
   ],
   "source": [
    "# Choose experimental data from the dataset\n",
    "# print(x[num_train:], y[num_train:])\n",
    "perceptron.test(x[num_train:], y[num_train:])"
   ]
  },
  {
   "cell_type": "code",
   "execution_count": null,
   "metadata": {
    "collapsed": false,
    "pycharm": {
     "name": "#%%\n"
    }
   },
   "outputs": [],
   "source": [
    "#Visualize results\n",
    "#YOUR CODE GOES HERE"
   ]
  },
  {
   "cell_type": "code",
   "execution_count": null,
   "metadata": {
    "collapsed": false,
    "pycharm": {
     "name": "#%%\n"
    }
   },
   "outputs": [],
   "source": []
  }
 ],
 "metadata": {
  "kernelspec": {
   "display_name": "Python 3",
   "language": "python",
   "name": "python3"
  },
  "language_info": {
   "codemirror_mode": {
    "name": "ipython",
    "version": 3
   },
   "file_extension": ".py",
   "mimetype": "text/x-python",
   "name": "python",
   "nbconvert_exporter": "python",
   "pygments_lexer": "ipython3",
   "version": "3.8.10"
  }
 },
 "nbformat": 4,
 "nbformat_minor": 0
}
