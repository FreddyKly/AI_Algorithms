{
 "cells": [
  {
   "cell_type": "code",
   "execution_count": 2,
   "metadata": {
    "collapsed": true
   },
   "outputs": [],
   "source": [
    "import numpy as np\n",
    "import pandas as pd\n",
    "import matplotlib.pyplot as plt\n",
    "from mlxtend.plotting import plot_decision_regions"
   ]
  },
  {
   "cell_type": "code",
   "execution_count": 71,
   "metadata": {
    "collapsed": false,
    "pycharm": {
     "name": "#%%\n"
    }
   },
   "outputs": [],
   "source": [
    "class Perceptron(object):\n",
    "\n",
    "    def __init__(self, eta=0.01, epochs=50):\n",
    "        self.eta = eta\n",
    "        self.epochs = epochs\n",
    "        self.weigths = None\n",
    "        self.predictions = np.ones(100)\n",
    "\n",
    "    def train(self, x, y):\n",
    "        # Add a 1 to each sample for the \"Bias\" and turn into a numpy array\n",
    "        x['0'] = 1\n",
    "        x = x.to_numpy()\n",
    "        # # print(x)\n",
    "        num_of_features = len(x[0])\n",
    "        # Initialize weigths\n",
    "        self.weigths = np.random.rand(num_of_features)\n",
    "        # print(\"Initial weights: [\" + str(self.weigths) + \"]\")\n",
    "        # print(\"Labels: \" + str(y))\n",
    "        num_correct_pred = 0\n",
    "        while num_correct_pred < 100:\n",
    "            # print(\"\\n### Iteration step \" + j + \" ###\")\n",
    "            # Iterate over all samples\n",
    "            for i in range(0, 100):\n",
    "                pred = self.predict(x[i])\n",
    "                # If the prediction is incorrect\n",
    "                if pred != y[i]:\n",
    "                    if y[i] == 1:\n",
    "                        self.weigths = np.add(self.weigths, x[i])\n",
    "                    else:\n",
    "                        self.weigths = np.subtract(self.weigths, x[i])\n",
    "                    print(\"The prediction was: \" + str(pred) + \" but the actual label was: \" + str(y[i]) + \". The new weigths are: \" + str(self.weigths))\n",
    "                self.predictions[i] = pred\n",
    "            # print(\"Predicitons: \" + str(self.predictions))\n",
    "            # print(\"Weights: [\" + str(self.weigths) + \"]\")\n",
    "            num_correct_pred = np.sum(np.array(self.predictions) == y)\n",
    "            print(\"How many elements are equal: \" + str(num_correct_pred) + \"\\n\")\n",
    "            # print(np.sum(self.predictions== y))\n",
    "        \n",
    "\n",
    "    def predict(self, x):\n",
    "        pred = np.sign(np.dot(x, self.weigths))\n",
    "        # print(\"Dotproduct of \" + str(x) + \" and \" + str(self.weigths) + \" equals: \" + str(pred))\n",
    "        return pred"
   ]
  },
  {
   "cell_type": "code",
   "execution_count": 72,
   "metadata": {
    "collapsed": false,
    "pycharm": {
     "name": "#%%\n"
    }
   },
   "outputs": [
    {
     "name": "stdout",
     "output_type": "stream",
     "text": [
      "The prediction was: 1.0 but the actual label was: -1.0. The new weigths are: [-2.20699508 -4.47342495 -0.10874302]\n",
      "How many elements are equal: 99\n",
      "\n",
      "The prediction was: -1.0 but the actual label was: 1.0. The new weigths are: [ 1.29300492 -3.07342495  0.89125698]\n",
      "The prediction was: -1.0 but the actual label was: 1.0. The new weigths are: [ 4.59300492 -1.37342495  1.89125698]\n",
      "The prediction was: 1.0 but the actual label was: -1.0. The new weigths are: [ 1.39300492 -6.07342495  0.89125698]\n",
      "How many elements are equal: 97\n",
      "\n",
      "The prediction was: -1.0 but the actual label was: 1.0. The new weigths are: [ 4.89300492 -4.67342495  1.89125698]\n",
      "The prediction was: 1.0 but the actual label was: -1.0. The new weigths are: [ 2.39300492 -7.67342495  0.89125698]\n",
      "How many elements are equal: 98\n",
      "\n",
      "The prediction was: -1.0 but the actual label was: 1.0. The new weigths are: [ 5.89300492 -6.27342495  1.89125698]\n",
      "How many elements are equal: 99\n",
      "\n",
      "How many elements are equal: 100\n",
      "\n"
     ]
    },
    {
     "name": "stderr",
     "output_type": "stream",
     "text": [
      "/tmp/ipykernel_6279/858728205.py:11: SettingWithCopyWarning: \n",
      "A value is trying to be set on a copy of a slice from a DataFrame.\n",
      "Try using .loc[row_indexer,col_indexer] = value instead\n",
      "\n",
      "See the caveats in the documentation: https://pandas.pydata.org/pandas-docs/stable/user_guide/indexing.html#returning-a-view-versus-a-copy\n",
      "  x['0'] = 1\n"
     ]
    }
   ],
   "source": [
    "#Load the Iris dataset into a dataframe\n",
    "df = pd.read_csv('https://archive.ics.uci.edu/ml/machine-learning-databases/iris/iris.data', header=None)\n",
    "# Get the first hundred rows (Cut out the theird lable)\n",
    "df = df.head(100)\n",
    "# Get the labels and load them in 'y'\n",
    "y = np.ones(50)\n",
    "y = np.append(y, np.negative(np.ones(50)))\n",
    "# Get the features to each label\n",
    "x = df[[1,2]]\n",
    "# print(\"test\" + str(y[75]))\n",
    "perceptron = Perceptron()\n",
    "perceptron.train(x, y)"
   ]
  },
  {
   "cell_type": "code",
   "execution_count": 4,
   "metadata": {
    "collapsed": false,
    "pycharm": {
     "name": "#%%\n"
    }
   },
   "outputs": [],
   "source": [
    "# Choose experimental data from the dataset\n",
    "#YOUR CODE GOES HERE"
   ]
  },
  {
   "cell_type": "code",
   "execution_count": null,
   "metadata": {
    "collapsed": false,
    "pycharm": {
     "name": "#%%\n"
    }
   },
   "outputs": [],
   "source": [
    "#Visualize results\n",
    "#YOUR CODE GOES HERE"
   ]
  },
  {
   "cell_type": "code",
   "execution_count": null,
   "metadata": {
    "collapsed": false,
    "pycharm": {
     "name": "#%%\n"
    }
   },
   "outputs": [],
   "source": []
  }
 ],
 "metadata": {
  "kernelspec": {
   "display_name": "Python 3",
   "language": "python",
   "name": "python3"
  },
  "language_info": {
   "codemirror_mode": {
    "name": "ipython",
    "version": 3
   },
   "file_extension": ".py",
   "mimetype": "text/x-python",
   "name": "python",
   "nbconvert_exporter": "python",
   "pygments_lexer": "ipython3",
   "version": "3.8.10"
  }
 },
 "nbformat": 4,
 "nbformat_minor": 0
}
